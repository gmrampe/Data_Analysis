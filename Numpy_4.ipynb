{
  "nbformat": 4,
  "nbformat_minor": 0,
  "metadata": {
    "colab": {
      "provenance": [],
      "include_colab_link": true
    },
    "kernelspec": {
      "name": "python3",
      "display_name": "Python 3"
    },
    "language_info": {
      "name": "python"
    }
  },
  "cells": [
    {
      "cell_type": "markdown",
      "metadata": {
        "id": "view-in-github",
        "colab_type": "text"
      },
      "source": [
        "<a href=\"https://colab.research.google.com/github/gmrampe/Data_Analysis/blob/main/Numpy_4.ipynb\" target=\"_parent\"><img src=\"https://colab.research.google.com/assets/colab-badge.svg\" alt=\"Open In Colab\"/></a>"
      ]
    },
    {
      "cell_type": "code",
      "execution_count": null,
      "metadata": {
        "colab": {
          "base_uri": "https://localhost:8080/",
          "height": 35
        },
        "id": "7lLUpGS06Fou",
        "outputId": "abaa69e7-15da-4f38-d7ea-3a4d4632b63b"
      },
      "outputs": [
        {
          "output_type": "execute_result",
          "data": {
            "text/plain": [
              "'\\nShallow copy\\nDeep copy\\n'"
            ],
            "application/vnd.google.colaboratory.intrinsic+json": {
              "type": "string"
            }
          },
          "metadata": {},
          "execution_count": 1
        }
      ],
      "source": [
        "#view vs copy\n",
        "\n",
        "# copy\n",
        "'''\n",
        "Shallow copy\n",
        "Deep copy\n",
        "'''"
      ]
    },
    {
      "cell_type": "code",
      "source": [
        "import numpy as np"
      ],
      "metadata": {
        "id": "gWDuGHV87B5G"
      },
      "execution_count": null,
      "outputs": []
    },
    {
      "cell_type": "code",
      "source": [
        "a = np.arange(4)\n",
        "print(a)"
      ],
      "metadata": {
        "colab": {
          "base_uri": "https://localhost:8080/"
        },
        "id": "LlTIxs5Y7IU-",
        "outputId": "893cb4a1-db87-40af-cf38-12bc6c64f571"
      },
      "execution_count": null,
      "outputs": [
        {
          "output_type": "stream",
          "name": "stdout",
          "text": [
            "[0 1 2 3]\n"
          ]
        }
      ]
    },
    {
      "cell_type": "code",
      "source": [
        "#reshape a to store in b\n",
        "b = a.reshape(2,2)\n",
        "print(b)"
      ],
      "metadata": {
        "colab": {
          "base_uri": "https://localhost:8080/"
        },
        "id": "KnSiFJNg7Ken",
        "outputId": "6eae034e-f829-46c0-e5ad-3dc7a372c2fc"
      },
      "execution_count": null,
      "outputs": [
        {
          "output_type": "stream",
          "name": "stdout",
          "text": [
            "[[0 1]\n",
            " [2 3]]\n"
          ]
        }
      ]
    },
    {
      "cell_type": "code",
      "source": [
        "a[0] = 11"
      ],
      "metadata": {
        "id": "R89GygPZ7R0y"
      },
      "execution_count": null,
      "outputs": []
    },
    {
      "cell_type": "code",
      "source": [
        "print(a)"
      ],
      "metadata": {
        "colab": {
          "base_uri": "https://localhost:8080/"
        },
        "id": "QrKhhE9m7WFk",
        "outputId": "5e545e56-985b-4943-edd5-8f5debceb1d7"
      },
      "execution_count": null,
      "outputs": [
        {
          "output_type": "stream",
          "name": "stdout",
          "text": [
            "[11  1  2  3]\n"
          ]
        }
      ]
    },
    {
      "cell_type": "code",
      "source": [
        "print(b)"
      ],
      "metadata": {
        "colab": {
          "base_uri": "https://localhost:8080/"
        },
        "id": "ZtRyhDH27alI",
        "outputId": "20cf5ad7-d823-4e65-bed1-64c231311852"
      },
      "execution_count": null,
      "outputs": [
        {
          "output_type": "stream",
          "name": "stdout",
          "text": [
            "[[11  1]\n",
            " [ 2  3]]\n"
          ]
        }
      ]
    },
    {
      "cell_type": "code",
      "source": [
        "np.shares_memory(a,b) #shallow copy"
      ],
      "metadata": {
        "colab": {
          "base_uri": "https://localhost:8080/"
        },
        "id": "1MS-cATt7eno",
        "outputId": "ea3ec00c-1a88-4cef-af87-4cbcd137b9b5"
      },
      "execution_count": null,
      "outputs": [
        {
          "output_type": "execute_result",
          "data": {
            "text/plain": [
              "True"
            ]
          },
          "metadata": {},
          "execution_count": 8
        }
      ]
    },
    {
      "cell_type": "code",
      "source": [
        "#eg2"
      ],
      "metadata": {
        "id": "F22jjBru7ooj"
      },
      "execution_count": null,
      "outputs": []
    },
    {
      "cell_type": "code",
      "source": [
        "print(a)"
      ],
      "metadata": {
        "colab": {
          "base_uri": "https://localhost:8080/"
        },
        "id": "QedTnU5E7xmH",
        "outputId": "8c152368-d008-4f11-8af0-de2709e68416"
      },
      "execution_count": null,
      "outputs": [
        {
          "output_type": "stream",
          "name": "stdout",
          "text": [
            "[11  1  2  3]\n"
          ]
        }
      ]
    },
    {
      "cell_type": "code",
      "source": [
        "c = a #shallow copy"
      ],
      "metadata": {
        "id": "-DtfTjbO7ynB"
      },
      "execution_count": null,
      "outputs": []
    },
    {
      "cell_type": "code",
      "source": [
        "print(c)"
      ],
      "metadata": {
        "colab": {
          "base_uri": "https://localhost:8080/"
        },
        "id": "R9hvlUDF70k_",
        "outputId": "c7bd58cf-69ad-4051-a448-7c7b819ed702"
      },
      "execution_count": null,
      "outputs": [
        {
          "output_type": "stream",
          "name": "stdout",
          "text": [
            "[11  1  2  3]\n"
          ]
        }
      ]
    },
    {
      "cell_type": "code",
      "source": [
        "a[1] = 15"
      ],
      "metadata": {
        "id": "KV0fI3AV75-h"
      },
      "execution_count": null,
      "outputs": []
    },
    {
      "cell_type": "code",
      "source": [
        "print(a)"
      ],
      "metadata": {
        "colab": {
          "base_uri": "https://localhost:8080/"
        },
        "id": "BDoiEjYX78Gb",
        "outputId": "2bc102fb-a7ad-4ab5-890d-690f6240de0a"
      },
      "execution_count": null,
      "outputs": [
        {
          "output_type": "stream",
          "name": "stdout",
          "text": [
            "[11 15  2  3]\n"
          ]
        }
      ]
    },
    {
      "cell_type": "code",
      "source": [
        "print(c)"
      ],
      "metadata": {
        "colab": {
          "base_uri": "https://localhost:8080/"
        },
        "id": "4OHZ233k785C",
        "outputId": "00bc07bb-5401-4ca0-f69e-4d5cb5bb4af3"
      },
      "execution_count": null,
      "outputs": [
        {
          "output_type": "stream",
          "name": "stdout",
          "text": [
            "[11 15  2  3]\n"
          ]
        }
      ]
    },
    {
      "cell_type": "code",
      "source": [
        "np.shares_memory(a,c)"
      ],
      "metadata": {
        "colab": {
          "base_uri": "https://localhost:8080/"
        },
        "id": "B_oA28Fi7-jW",
        "outputId": "1cc5da0d-6e8e-4fb2-d94b-0643abfefb6f"
      },
      "execution_count": null,
      "outputs": [
        {
          "output_type": "execute_result",
          "data": {
            "text/plain": [
              "True"
            ]
          },
          "metadata": {},
          "execution_count": 16
        }
      ]
    },
    {
      "cell_type": "code",
      "source": [
        "#eg3\n",
        "a = np.arange(1, 11)\n",
        "print(a)"
      ],
      "metadata": {
        "colab": {
          "base_uri": "https://localhost:8080/"
        },
        "id": "t3x4J8qK8Nx4",
        "outputId": "c9db1bf9-8aeb-44e4-f51f-86a20adc83db"
      },
      "execution_count": null,
      "outputs": [
        {
          "output_type": "stream",
          "name": "stdout",
          "text": [
            "[ 1  2  3  4  5  6  7  8  9 10]\n"
          ]
        }
      ]
    },
    {
      "cell_type": "code",
      "source": [
        "b = a[::2] #slicing --> shallow copy"
      ],
      "metadata": {
        "id": "ekql1ZLH8edX"
      },
      "execution_count": null,
      "outputs": []
    },
    {
      "cell_type": "code",
      "source": [
        "print(b)"
      ],
      "metadata": {
        "colab": {
          "base_uri": "https://localhost:8080/"
        },
        "id": "QxEro5Fd8oBD",
        "outputId": "bcb10cc3-7035-4bdb-bd9d-a86407d1a721"
      },
      "execution_count": null,
      "outputs": [
        {
          "output_type": "stream",
          "name": "stdout",
          "text": [
            "[1 3 5 7 9]\n"
          ]
        }
      ]
    },
    {
      "cell_type": "code",
      "source": [
        "a[0] = 90"
      ],
      "metadata": {
        "id": "J4yFKhPC8p52"
      },
      "execution_count": null,
      "outputs": []
    },
    {
      "cell_type": "code",
      "source": [
        "print(a)"
      ],
      "metadata": {
        "colab": {
          "base_uri": "https://localhost:8080/"
        },
        "id": "tuhhhM4x9BVN",
        "outputId": "79eb3466-0873-490e-ae02-994e8cc1bdd1"
      },
      "execution_count": null,
      "outputs": [
        {
          "output_type": "stream",
          "name": "stdout",
          "text": [
            "[90  2  3  4  5  6  7  8  9 10]\n"
          ]
        }
      ]
    },
    {
      "cell_type": "code",
      "source": [
        "print(b)"
      ],
      "metadata": {
        "colab": {
          "base_uri": "https://localhost:8080/"
        },
        "id": "hMGEizIZ9Qkm",
        "outputId": "c8d90ca1-e31e-42a0-f82d-8d565b549155"
      },
      "execution_count": null,
      "outputs": [
        {
          "output_type": "stream",
          "name": "stdout",
          "text": [
            "[90  3  5  7  9]\n"
          ]
        }
      ]
    },
    {
      "cell_type": "code",
      "source": [
        "np.shares_memory(a,b)"
      ],
      "metadata": {
        "colab": {
          "base_uri": "https://localhost:8080/"
        },
        "id": "paGh-y449bdV",
        "outputId": "0b12f9ac-7919-432d-e423-960cec35db11"
      },
      "execution_count": null,
      "outputs": [
        {
          "output_type": "execute_result",
          "data": {
            "text/plain": [
              "True"
            ]
          },
          "metadata": {},
          "execution_count": 26
        }
      ]
    },
    {
      "cell_type": "code",
      "source": [
        "a[1] = 70"
      ],
      "metadata": {
        "id": "TvMRYpHE9pj3"
      },
      "execution_count": null,
      "outputs": []
    },
    {
      "cell_type": "code",
      "source": [
        "print(a)"
      ],
      "metadata": {
        "colab": {
          "base_uri": "https://localhost:8080/"
        },
        "id": "8Zw3BsG69ta_",
        "outputId": "570872d5-fd8a-4c52-d901-e93aa038b116"
      },
      "execution_count": null,
      "outputs": [
        {
          "output_type": "stream",
          "name": "stdout",
          "text": [
            "[90 70  3  4  5  6  7  8  9 10]\n"
          ]
        }
      ]
    },
    {
      "cell_type": "code",
      "source": [
        "print(b)"
      ],
      "metadata": {
        "colab": {
          "base_uri": "https://localhost:8080/"
        },
        "id": "eldmj6oS98LO",
        "outputId": "b00d8dfb-bbb5-4c48-c39f-24293999e556"
      },
      "execution_count": null,
      "outputs": [
        {
          "output_type": "stream",
          "name": "stdout",
          "text": [
            "[90  3  5  7  9]\n"
          ]
        }
      ]
    },
    {
      "cell_type": "markdown",
      "source": [
        "![Screenshot 2023-11-29 at 4.14.57 PM.png](data:image/png;base64,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)"
      ],
      "metadata": {
        "id": "W1tVDbLJ_HAH"
      }
    },
    {
      "cell_type": "code",
      "source": [
        "#Slicing creates a shallow copy"
      ],
      "metadata": {
        "id": "1OwZ43Px-6J2"
      },
      "execution_count": null,
      "outputs": []
    },
    {
      "cell_type": "code",
      "source": [
        "a = np.arange(1, 6)\n",
        "print(a)"
      ],
      "metadata": {
        "colab": {
          "base_uri": "https://localhost:8080/"
        },
        "id": "12qiZCMIAkew",
        "outputId": "1d1501de-8407-41bb-9e73-7b4211393584"
      },
      "execution_count": null,
      "outputs": [
        {
          "output_type": "stream",
          "name": "stdout",
          "text": [
            "[1 2 3 4 5]\n"
          ]
        }
      ]
    },
    {
      "cell_type": "code",
      "source": [
        "b = a[a%2 == 0]\n",
        "print(b)"
      ],
      "metadata": {
        "colab": {
          "base_uri": "https://localhost:8080/"
        },
        "id": "keITzh9oAn4i",
        "outputId": "483d47f0-ea44-471d-b362-bb0da1510ea6"
      },
      "execution_count": null,
      "outputs": [
        {
          "output_type": "stream",
          "name": "stdout",
          "text": [
            "[2 4]\n"
          ]
        }
      ]
    },
    {
      "cell_type": "code",
      "source": [
        "np.shares_memory(a,b) #deep copy"
      ],
      "metadata": {
        "colab": {
          "base_uri": "https://localhost:8080/"
        },
        "id": "TEavyrXKA62C",
        "outputId": "57dea566-f2d0-4a36-e23d-21f27cdb2608"
      },
      "execution_count": null,
      "outputs": [
        {
          "output_type": "execute_result",
          "data": {
            "text/plain": [
              "False"
            ]
          },
          "metadata": {},
          "execution_count": 34
        }
      ]
    },
    {
      "cell_type": "code",
      "source": [
        "a[1] = 100"
      ],
      "metadata": {
        "id": "oWm5vTSABI8s"
      },
      "execution_count": null,
      "outputs": []
    },
    {
      "cell_type": "code",
      "source": [
        "print(a)"
      ],
      "metadata": {
        "colab": {
          "base_uri": "https://localhost:8080/"
        },
        "id": "FdPUGJ-6BVfv",
        "outputId": "c368c0f1-9f60-44a6-d050-ced7f84bad6f"
      },
      "execution_count": null,
      "outputs": [
        {
          "output_type": "stream",
          "name": "stdout",
          "text": [
            "[  1 100   3   4   5]\n"
          ]
        }
      ]
    },
    {
      "cell_type": "code",
      "source": [
        "print(b)"
      ],
      "metadata": {
        "colab": {
          "base_uri": "https://localhost:8080/"
        },
        "id": "QlJ-nlNEBclP",
        "outputId": "e636a88a-5cba-47a8-e1fa-cd786fa66192"
      },
      "execution_count": null,
      "outputs": [
        {
          "output_type": "stream",
          "name": "stdout",
          "text": [
            "[2 4]\n"
          ]
        }
      ]
    },
    {
      "cell_type": "code",
      "source": [
        "'''\n",
        "Shallow copy --> reshaping, slicing, assigning\n",
        "Deep copy --> masking, arithmetic operation\n",
        "'''"
      ],
      "metadata": {
        "colab": {
          "base_uri": "https://localhost:8080/",
          "height": 35
        },
        "id": "MTZmyTGVBiIu",
        "outputId": "dd1f0550-4d4f-4744-bf9b-be98899360f3"
      },
      "execution_count": null,
      "outputs": [
        {
          "output_type": "execute_result",
          "data": {
            "text/plain": [
              "'\\nShallow copy --> reshaping, slicing, assigning\\nDeep copy --> masking, arithmetic operation\\n'"
            ],
            "application/vnd.google.colaboratory.intrinsic+json": {
              "type": "string"
            }
          },
          "metadata": {},
          "execution_count": 38
        }
      ]
    },
    {
      "cell_type": "code",
      "source": [
        "#Quiz\n",
        "\n",
        "a = [0,1,2,3,4,5]\n",
        "b = a[a%1 == 0]\n",
        "b[0] = 10\n",
        "a[:2] = ?"
      ],
      "metadata": {
        "id": "PvN42C3CCGuw"
      },
      "execution_count": null,
      "outputs": []
    },
    {
      "cell_type": "code",
      "source": [
        "a = np.array([0,1,2,3,4,5])\n",
        "b = a[a%1 == 0]\n",
        "b[0] = 10"
      ],
      "metadata": {
        "id": "cZRYdXrWCsnZ"
      },
      "execution_count": null,
      "outputs": []
    },
    {
      "cell_type": "code",
      "source": [
        "a[:2]"
      ],
      "metadata": {
        "colab": {
          "base_uri": "https://localhost:8080/"
        },
        "id": "iFQ4rFPlCz91",
        "outputId": "b6f37665-810b-4834-d2d6-c6b05904e989"
      },
      "execution_count": null,
      "outputs": [
        {
          "output_type": "execute_result",
          "data": {
            "text/plain": [
              "array([0, 1])"
            ]
          },
          "metadata": {},
          "execution_count": 41
        }
      ]
    },
    {
      "cell_type": "code",
      "source": [
        "np.shares_memory(a,b)"
      ],
      "metadata": {
        "colab": {
          "base_uri": "https://localhost:8080/"
        },
        "id": "bLuKcI_0C4q9",
        "outputId": "61f1269d-051d-44b6-e0e2-92e0108b452e"
      },
      "execution_count": null,
      "outputs": [
        {
          "output_type": "execute_result",
          "data": {
            "text/plain": [
              "False"
            ]
          },
          "metadata": {},
          "execution_count": 42
        }
      ]
    },
    {
      "cell_type": "code",
      "source": [
        "#.view() --> shallow copy"
      ],
      "metadata": {
        "id": "oPvzNiAmC-_p"
      },
      "execution_count": null,
      "outputs": []
    },
    {
      "cell_type": "code",
      "source": [
        "a = np.arange(10)\n",
        "print(a)"
      ],
      "metadata": {
        "colab": {
          "base_uri": "https://localhost:8080/"
        },
        "id": "-CWpYHpHDHLN",
        "outputId": "ffec4212-cc62-48ab-f116-9d624d33df6a"
      },
      "execution_count": null,
      "outputs": [
        {
          "output_type": "stream",
          "name": "stdout",
          "text": [
            "[0 1 2 3 4 5 6 7 8 9]\n"
          ]
        }
      ]
    },
    {
      "cell_type": "code",
      "source": [
        "b = a.view()\n",
        "# b = a"
      ],
      "metadata": {
        "id": "Je3iNDXvDoVz"
      },
      "execution_count": null,
      "outputs": []
    },
    {
      "cell_type": "code",
      "source": [
        "print(b)"
      ],
      "metadata": {
        "colab": {
          "base_uri": "https://localhost:8080/"
        },
        "id": "fW2NJ8qBDykM",
        "outputId": "c8f09233-2bdf-4355-b05a-0926eed0c6b5"
      },
      "execution_count": null,
      "outputs": [
        {
          "output_type": "stream",
          "name": "stdout",
          "text": [
            "[0 1 2 3 4 5 6 7 8 9]\n"
          ]
        }
      ]
    },
    {
      "cell_type": "code",
      "source": [
        "a[3] = 100"
      ],
      "metadata": {
        "id": "znbIXE5GD2w0"
      },
      "execution_count": null,
      "outputs": []
    },
    {
      "cell_type": "code",
      "source": [
        "print(b)"
      ],
      "metadata": {
        "colab": {
          "base_uri": "https://localhost:8080/"
        },
        "id": "E-8YQLXQD4QN",
        "outputId": "bef07f00-2b8f-4a30-8ff3-ab89eb3812e7"
      },
      "execution_count": null,
      "outputs": [
        {
          "output_type": "stream",
          "name": "stdout",
          "text": [
            "[  0   1   2 100   4   5   6   7   8   9]\n"
          ]
        }
      ]
    },
    {
      "cell_type": "code",
      "source": [
        "np.shares_memory(a,b)"
      ],
      "metadata": {
        "colab": {
          "base_uri": "https://localhost:8080/"
        },
        "id": "d5X-GR45D865",
        "outputId": "851afa8b-48e7-4f60-9c7d-4ed66ef2df67"
      },
      "execution_count": null,
      "outputs": [
        {
          "output_type": "execute_result",
          "data": {
            "text/plain": [
              "True"
            ]
          },
          "metadata": {},
          "execution_count": 49
        }
      ]
    },
    {
      "cell_type": "code",
      "source": [
        "#deep copy"
      ],
      "metadata": {
        "id": "BTVKSR8eD_UN"
      },
      "execution_count": null,
      "outputs": []
    },
    {
      "cell_type": "code",
      "source": [
        "#.copy() --> deep copy"
      ],
      "metadata": {
        "id": "Kb6Ok5JYECP4"
      },
      "execution_count": null,
      "outputs": []
    },
    {
      "cell_type": "code",
      "source": [
        "a = np.arange(1,6)\n",
        "print(a)"
      ],
      "metadata": {
        "colab": {
          "base_uri": "https://localhost:8080/"
        },
        "id": "_m-dHy7IEHJC",
        "outputId": "cbc46567-b79d-451d-f7f5-b13f1b223de9"
      },
      "execution_count": null,
      "outputs": [
        {
          "output_type": "stream",
          "name": "stdout",
          "text": [
            "[1 2 3 4 5]\n"
          ]
        }
      ]
    },
    {
      "cell_type": "code",
      "source": [
        "b = a.copy() #explicitly mention that create a deep copy"
      ],
      "metadata": {
        "id": "gPBGKg5FEKlU"
      },
      "execution_count": null,
      "outputs": []
    },
    {
      "cell_type": "code",
      "source": [
        "print(b)"
      ],
      "metadata": {
        "colab": {
          "base_uri": "https://localhost:8080/"
        },
        "id": "L9RI4MH-EXSp",
        "outputId": "8a52ebcf-f307-430a-91ea-d7e78eca27f5"
      },
      "execution_count": null,
      "outputs": [
        {
          "output_type": "stream",
          "name": "stdout",
          "text": [
            "[1 2 3 4 5]\n"
          ]
        }
      ]
    },
    {
      "cell_type": "code",
      "source": [
        "np.shares_memory(a,b)"
      ],
      "metadata": {
        "colab": {
          "base_uri": "https://localhost:8080/"
        },
        "id": "iMZbDqkpEYgk",
        "outputId": "b9e2acc4-aefd-481b-ce06-d2a976b7f2ad"
      },
      "execution_count": null,
      "outputs": [
        {
          "output_type": "execute_result",
          "data": {
            "text/plain": [
              "False"
            ]
          },
          "metadata": {},
          "execution_count": 55
        }
      ]
    },
    {
      "cell_type": "code",
      "source": [
        "a[1] = 100"
      ],
      "metadata": {
        "id": "v2L5OjsKEavh"
      },
      "execution_count": null,
      "outputs": []
    },
    {
      "cell_type": "code",
      "source": [
        "print(a)"
      ],
      "metadata": {
        "colab": {
          "base_uri": "https://localhost:8080/"
        },
        "id": "d_QbUeK8EfXF",
        "outputId": "2f21e9b2-ae47-4083-fb8c-8fad1c72d121"
      },
      "execution_count": null,
      "outputs": [
        {
          "output_type": "stream",
          "name": "stdout",
          "text": [
            "[  1 100   3   4   5]\n"
          ]
        }
      ]
    },
    {
      "cell_type": "code",
      "source": [
        "print(b)"
      ],
      "metadata": {
        "colab": {
          "base_uri": "https://localhost:8080/"
        },
        "id": "NW2iLb6-EjyC",
        "outputId": "5b7918c8-d219-4492-d7fe-aec24697acee"
      },
      "execution_count": null,
      "outputs": [
        {
          "output_type": "stream",
          "name": "stdout",
          "text": [
            "[1 2 3 4 5]\n"
          ]
        }
      ]
    },
    {
      "cell_type": "code",
      "source": [
        "#Resume at 10:06 sharp"
      ],
      "metadata": {
        "id": "HoyWFpZqEnIG"
      },
      "execution_count": null,
      "outputs": []
    },
    {
      "cell_type": "code",
      "source": [
        "#splitting"
      ],
      "metadata": {
        "id": "p28U7sShF7EW"
      },
      "execution_count": null,
      "outputs": []
    },
    {
      "cell_type": "code",
      "source": [
        "a = np.arange(1,10)\n",
        "print(a)"
      ],
      "metadata": {
        "colab": {
          "base_uri": "https://localhost:8080/"
        },
        "id": "1Kv6vQIVIqrs",
        "outputId": "124874de-b5d4-4a86-954a-780297821a7b"
      },
      "execution_count": null,
      "outputs": [
        {
          "output_type": "stream",
          "name": "stdout",
          "text": [
            "[1 2 3 4 5 6 7 8 9]\n"
          ]
        }
      ]
    },
    {
      "cell_type": "code",
      "source": [
        "b = np.split(a, 3) #split a into 3 equal parts"
      ],
      "metadata": {
        "id": "imHN_sUWI21f"
      },
      "execution_count": null,
      "outputs": []
    },
    {
      "cell_type": "code",
      "source": [
        "print(b)"
      ],
      "metadata": {
        "colab": {
          "base_uri": "https://localhost:8080/"
        },
        "id": "1Xhd416TI87l",
        "outputId": "10cfa3a2-726a-4515-a918-7a2a1c5eda60"
      },
      "execution_count": null,
      "outputs": [
        {
          "output_type": "stream",
          "name": "stdout",
          "text": [
            "[array([1, 2, 3]), array([4, 5, 6]), array([7, 8, 9])]\n"
          ]
        }
      ]
    },
    {
      "cell_type": "code",
      "source": [
        "#Imp: number of elements in the array should be divisible by the number of sections"
      ],
      "metadata": {
        "id": "H3ZySK-WI_mh"
      },
      "execution_count": null,
      "outputs": []
    },
    {
      "cell_type": "code",
      "source": [
        "b = np.split(a, 4)"
      ],
      "metadata": {
        "colab": {
          "base_uri": "https://localhost:8080/",
          "height": 322
        },
        "id": "a5c1Y3KSJfAx",
        "outputId": "3dbd719b-8edf-42a5-8013-edd641ec2634"
      },
      "execution_count": null,
      "outputs": [
        {
          "output_type": "error",
          "ename": "ValueError",
          "evalue": "ignored",
          "traceback": [
            "\u001b[0;31m---------------------------------------------------------------------------\u001b[0m",
            "\u001b[0;31mValueError\u001b[0m                                Traceback (most recent call last)",
            "\u001b[0;32m<ipython-input-64-8d033c3e6e48>\u001b[0m in \u001b[0;36m<cell line: 1>\u001b[0;34m()\u001b[0m\n\u001b[0;32m----> 1\u001b[0;31m \u001b[0mb\u001b[0m \u001b[0;34m=\u001b[0m \u001b[0mnp\u001b[0m\u001b[0;34m.\u001b[0m\u001b[0msplit\u001b[0m\u001b[0;34m(\u001b[0m\u001b[0ma\u001b[0m\u001b[0;34m,\u001b[0m \u001b[0;36m4\u001b[0m\u001b[0;34m)\u001b[0m\u001b[0;34m\u001b[0m\u001b[0;34m\u001b[0m\u001b[0m\n\u001b[0m",
            "\u001b[0;32m/usr/local/lib/python3.10/dist-packages/numpy/core/overrides.py\u001b[0m in \u001b[0;36msplit\u001b[0;34m(*args, **kwargs)\u001b[0m\n",
            "\u001b[0;32m/usr/local/lib/python3.10/dist-packages/numpy/lib/shape_base.py\u001b[0m in \u001b[0;36msplit\u001b[0;34m(ary, indices_or_sections, axis)\u001b[0m\n\u001b[1;32m    870\u001b[0m         \u001b[0mN\u001b[0m \u001b[0;34m=\u001b[0m \u001b[0mary\u001b[0m\u001b[0;34m.\u001b[0m\u001b[0mshape\u001b[0m\u001b[0;34m[\u001b[0m\u001b[0maxis\u001b[0m\u001b[0;34m]\u001b[0m\u001b[0;34m\u001b[0m\u001b[0;34m\u001b[0m\u001b[0m\n\u001b[1;32m    871\u001b[0m         \u001b[0;32mif\u001b[0m \u001b[0mN\u001b[0m \u001b[0;34m%\u001b[0m \u001b[0msections\u001b[0m\u001b[0;34m:\u001b[0m\u001b[0;34m\u001b[0m\u001b[0;34m\u001b[0m\u001b[0m\n\u001b[0;32m--> 872\u001b[0;31m             raise ValueError(\n\u001b[0m\u001b[1;32m    873\u001b[0m                 'array split does not result in an equal division') from None\n\u001b[1;32m    874\u001b[0m     \u001b[0;32mreturn\u001b[0m \u001b[0marray_split\u001b[0m\u001b[0;34m(\u001b[0m\u001b[0mary\u001b[0m\u001b[0;34m,\u001b[0m \u001b[0mindices_or_sections\u001b[0m\u001b[0;34m,\u001b[0m \u001b[0maxis\u001b[0m\u001b[0;34m)\u001b[0m\u001b[0;34m\u001b[0m\u001b[0;34m\u001b[0m\u001b[0m\n",
            "\u001b[0;31mValueError\u001b[0m: array split does not result in an equal division"
          ]
        }
      ]
    },
    {
      "cell_type": "code",
      "source": [
        "a = np.arange(1,11)\n",
        "print(a)"
      ],
      "metadata": {
        "colab": {
          "base_uri": "https://localhost:8080/"
        },
        "id": "csifHrhXJk-F",
        "outputId": "ceaeff9b-7ba9-43b8-e38c-3c08712485df"
      },
      "execution_count": null,
      "outputs": [
        {
          "output_type": "stream",
          "name": "stdout",
          "text": [
            "[ 1  2  3  4  5  6  7  8  9 10]\n"
          ]
        }
      ]
    },
    {
      "cell_type": "code",
      "source": [
        "b = np.split(a, 5)\n",
        "print(b)"
      ],
      "metadata": {
        "colab": {
          "base_uri": "https://localhost:8080/"
        },
        "id": "dnbYOHJUJs7y",
        "outputId": "12128bd2-7a4f-44ec-a999-632e644389eb"
      },
      "execution_count": null,
      "outputs": [
        {
          "output_type": "stream",
          "name": "stdout",
          "text": [
            "[array([1, 2]), array([3, 4]), array([5, 6]), array([7, 8]), array([ 9, 10])]\n"
          ]
        }
      ]
    },
    {
      "cell_type": "code",
      "source": [
        "b = np.split(a, 2)\n",
        "print(b)"
      ],
      "metadata": {
        "colab": {
          "base_uri": "https://localhost:8080/"
        },
        "id": "1Kts37VeJ2x4",
        "outputId": "3331609c-94ac-48b8-cf52-9709be2ca81c"
      },
      "execution_count": null,
      "outputs": [
        {
          "output_type": "stream",
          "name": "stdout",
          "text": [
            "[array([1, 2, 3, 4, 5]), array([ 6,  7,  8,  9, 10])]\n"
          ]
        }
      ]
    },
    {
      "cell_type": "code",
      "source": [
        "type(b)"
      ],
      "metadata": {
        "colab": {
          "base_uri": "https://localhost:8080/"
        },
        "id": "xNT6VzdWKFgi",
        "outputId": "ae7fd7c4-0dfe-4dbd-fbdc-ff4e71b2259b"
      },
      "execution_count": null,
      "outputs": [
        {
          "output_type": "execute_result",
          "data": {
            "text/plain": [
              "list"
            ]
          },
          "metadata": {},
          "execution_count": 70
        }
      ]
    },
    {
      "cell_type": "code",
      "source": [
        "b = np.split(a, 3)\n",
        "print(b)"
      ],
      "metadata": {
        "colab": {
          "base_uri": "https://localhost:8080/",
          "height": 339
        },
        "id": "ddczkPaqJ_oS",
        "outputId": "cdeead46-093f-44c0-9ded-a188a814e4d4"
      },
      "execution_count": null,
      "outputs": [
        {
          "output_type": "error",
          "ename": "ValueError",
          "evalue": "ignored",
          "traceback": [
            "\u001b[0;31m---------------------------------------------------------------------------\u001b[0m",
            "\u001b[0;31mValueError\u001b[0m                                Traceback (most recent call last)",
            "\u001b[0;32m<ipython-input-68-64c4e3910202>\u001b[0m in \u001b[0;36m<cell line: 1>\u001b[0;34m()\u001b[0m\n\u001b[0;32m----> 1\u001b[0;31m \u001b[0mb\u001b[0m \u001b[0;34m=\u001b[0m \u001b[0mnp\u001b[0m\u001b[0;34m.\u001b[0m\u001b[0msplit\u001b[0m\u001b[0;34m(\u001b[0m\u001b[0ma\u001b[0m\u001b[0;34m,\u001b[0m \u001b[0;36m3\u001b[0m\u001b[0;34m)\u001b[0m\u001b[0;34m\u001b[0m\u001b[0;34m\u001b[0m\u001b[0m\n\u001b[0m\u001b[1;32m      2\u001b[0m \u001b[0mprint\u001b[0m\u001b[0;34m(\u001b[0m\u001b[0mb\u001b[0m\u001b[0;34m)\u001b[0m\u001b[0;34m\u001b[0m\u001b[0;34m\u001b[0m\u001b[0m\n",
            "\u001b[0;32m/usr/local/lib/python3.10/dist-packages/numpy/core/overrides.py\u001b[0m in \u001b[0;36msplit\u001b[0;34m(*args, **kwargs)\u001b[0m\n",
            "\u001b[0;32m/usr/local/lib/python3.10/dist-packages/numpy/lib/shape_base.py\u001b[0m in \u001b[0;36msplit\u001b[0;34m(ary, indices_or_sections, axis)\u001b[0m\n\u001b[1;32m    870\u001b[0m         \u001b[0mN\u001b[0m \u001b[0;34m=\u001b[0m \u001b[0mary\u001b[0m\u001b[0;34m.\u001b[0m\u001b[0mshape\u001b[0m\u001b[0;34m[\u001b[0m\u001b[0maxis\u001b[0m\u001b[0;34m]\u001b[0m\u001b[0;34m\u001b[0m\u001b[0;34m\u001b[0m\u001b[0m\n\u001b[1;32m    871\u001b[0m         \u001b[0;32mif\u001b[0m \u001b[0mN\u001b[0m \u001b[0;34m%\u001b[0m \u001b[0msections\u001b[0m\u001b[0;34m:\u001b[0m\u001b[0;34m\u001b[0m\u001b[0;34m\u001b[0m\u001b[0m\n\u001b[0;32m--> 872\u001b[0;31m             raise ValueError(\n\u001b[0m\u001b[1;32m    873\u001b[0m                 'array split does not result in an equal division') from None\n\u001b[1;32m    874\u001b[0m     \u001b[0;32mreturn\u001b[0m \u001b[0marray_split\u001b[0m\u001b[0;34m(\u001b[0m\u001b[0mary\u001b[0m\u001b[0;34m,\u001b[0m \u001b[0mindices_or_sections\u001b[0m\u001b[0;34m,\u001b[0m \u001b[0maxis\u001b[0m\u001b[0;34m)\u001b[0m\u001b[0;34m\u001b[0m\u001b[0;34m\u001b[0m\u001b[0m\n",
            "\u001b[0;31mValueError\u001b[0m: array split does not result in an equal division"
          ]
        }
      ]
    },
    {
      "cell_type": "code",
      "source": [
        "#version2"
      ],
      "metadata": {
        "id": "5c2ELMuFKDvW"
      },
      "execution_count": null,
      "outputs": []
    },
    {
      "cell_type": "code",
      "source": [
        "print(a)"
      ],
      "metadata": {
        "colab": {
          "base_uri": "https://localhost:8080/"
        },
        "id": "xng2jqaZKP7A",
        "outputId": "b8ebfbd9-3590-4b8f-b231-3935a4b036a4"
      },
      "execution_count": null,
      "outputs": [
        {
          "output_type": "stream",
          "name": "stdout",
          "text": [
            "[ 1  2  3  4  5  6  7  8  9 10]\n"
          ]
        }
      ]
    },
    {
      "cell_type": "code",
      "source": [
        "c = np.split(a, [3,5,6])\n",
        "print(c)"
      ],
      "metadata": {
        "colab": {
          "base_uri": "https://localhost:8080/"
        },
        "id": "6l6vnySEKRaD",
        "outputId": "1718f17e-1b1b-41ab-f0c3-225a499d3362"
      },
      "execution_count": null,
      "outputs": [
        {
          "output_type": "stream",
          "name": "stdout",
          "text": [
            "[array([1, 2, 3]), array([4, 5]), array([6]), array([ 7,  8,  9, 10])]\n"
          ]
        }
      ]
    },
    {
      "cell_type": "code",
      "source": [
        "# [ 1  2  3  |4  5  |6  |7  8  9 10]"
      ],
      "metadata": {
        "id": "JX6noPfqKbpR"
      },
      "execution_count": null,
      "outputs": []
    },
    {
      "cell_type": "code",
      "source": [
        "d = np.split(a, [2,4,7,8])\n",
        "print(d)"
      ],
      "metadata": {
        "colab": {
          "base_uri": "https://localhost:8080/"
        },
        "id": "P64GDXR1LhOq",
        "outputId": "4471e510-5caa-4f3c-c753-ff4b2e3a6ac8"
      },
      "execution_count": null,
      "outputs": [
        {
          "output_type": "stream",
          "name": "stdout",
          "text": [
            "[array([1, 2]), array([3, 4]), array([5, 6, 7]), array([8]), array([ 9, 10])]\n"
          ]
        }
      ]
    },
    {
      "cell_type": "code",
      "source": [
        "#splitting in 2D\n",
        "#hsplit\n",
        "#vsplit"
      ],
      "metadata": {
        "id": "s_YDk0cvMDZ_"
      },
      "execution_count": null,
      "outputs": []
    },
    {
      "cell_type": "code",
      "source": [
        "a = np.arange(16).reshape(4,4)\n",
        "print(a)"
      ],
      "metadata": {
        "colab": {
          "base_uri": "https://localhost:8080/"
        },
        "id": "2d7TiDjSMHmi",
        "outputId": "ffa44f6d-9bc2-4386-8135-d2d8d0e0092e"
      },
      "execution_count": null,
      "outputs": [
        {
          "output_type": "stream",
          "name": "stdout",
          "text": [
            "[[ 0  1  2  3]\n",
            " [ 4  5  6  7]\n",
            " [ 8  9 10 11]\n",
            " [12 13 14 15]]\n"
          ]
        }
      ]
    },
    {
      "cell_type": "code",
      "source": [
        "#hsplit() --> split the horizontal axis --> column-wise splitting"
      ],
      "metadata": {
        "id": "49BJRjOXMbYD"
      },
      "execution_count": null,
      "outputs": []
    },
    {
      "cell_type": "code",
      "source": [
        "b = np.hsplit(a, 2)\n",
        "print(b)"
      ],
      "metadata": {
        "colab": {
          "base_uri": "https://localhost:8080/"
        },
        "id": "yW5YWWi6MumI",
        "outputId": "81966d33-f40d-4a34-a6a1-59bad25577b5"
      },
      "execution_count": null,
      "outputs": [
        {
          "output_type": "stream",
          "name": "stdout",
          "text": [
            "[array([[ 0,  1],\n",
            "       [ 4,  5],\n",
            "       [ 8,  9],\n",
            "       [12, 13]]), array([[ 2,  3],\n",
            "       [ 6,  7],\n",
            "       [10, 11],\n",
            "       [14, 15]])]\n"
          ]
        }
      ]
    },
    {
      "cell_type": "code",
      "source": [
        "b = np.hsplit(a, 3)\n",
        "print(b)"
      ],
      "metadata": {
        "colab": {
          "base_uri": "https://localhost:8080/",
          "height": 339
        },
        "id": "SWF4FDVdMyMG",
        "outputId": "6b8d216f-2dd1-45e3-fd29-f145adb52de4"
      },
      "execution_count": null,
      "outputs": [
        {
          "output_type": "error",
          "ename": "ValueError",
          "evalue": "ignored",
          "traceback": [
            "\u001b[0;31m---------------------------------------------------------------------------\u001b[0m",
            "\u001b[0;31mValueError\u001b[0m                                Traceback (most recent call last)",
            "\u001b[0;32m<ipython-input-80-154a131d9ebc>\u001b[0m in \u001b[0;36m<cell line: 1>\u001b[0;34m()\u001b[0m\n\u001b[0;32m----> 1\u001b[0;31m \u001b[0mb\u001b[0m \u001b[0;34m=\u001b[0m \u001b[0mnp\u001b[0m\u001b[0;34m.\u001b[0m\u001b[0mhsplit\u001b[0m\u001b[0;34m(\u001b[0m\u001b[0ma\u001b[0m\u001b[0;34m,\u001b[0m \u001b[0;36m3\u001b[0m\u001b[0;34m)\u001b[0m\u001b[0;34m\u001b[0m\u001b[0;34m\u001b[0m\u001b[0m\n\u001b[0m\u001b[1;32m      2\u001b[0m \u001b[0mprint\u001b[0m\u001b[0;34m(\u001b[0m\u001b[0mb\u001b[0m\u001b[0;34m)\u001b[0m\u001b[0;34m\u001b[0m\u001b[0;34m\u001b[0m\u001b[0m\n",
            "\u001b[0;32m/usr/local/lib/python3.10/dist-packages/numpy/core/overrides.py\u001b[0m in \u001b[0;36mhsplit\u001b[0;34m(*args, **kwargs)\u001b[0m\n",
            "\u001b[0;32m/usr/local/lib/python3.10/dist-packages/numpy/lib/shape_base.py\u001b[0m in \u001b[0;36mhsplit\u001b[0;34m(ary, indices_or_sections)\u001b[0m\n\u001b[1;32m    944\u001b[0m         \u001b[0;32mraise\u001b[0m \u001b[0mValueError\u001b[0m\u001b[0;34m(\u001b[0m\u001b[0;34m'hsplit only works on arrays of 1 or more dimensions'\u001b[0m\u001b[0;34m)\u001b[0m\u001b[0;34m\u001b[0m\u001b[0;34m\u001b[0m\u001b[0m\n\u001b[1;32m    945\u001b[0m     \u001b[0;32mif\u001b[0m \u001b[0mary\u001b[0m\u001b[0;34m.\u001b[0m\u001b[0mndim\u001b[0m \u001b[0;34m>\u001b[0m \u001b[0;36m1\u001b[0m\u001b[0;34m:\u001b[0m\u001b[0;34m\u001b[0m\u001b[0;34m\u001b[0m\u001b[0m\n\u001b[0;32m--> 946\u001b[0;31m         \u001b[0;32mreturn\u001b[0m \u001b[0msplit\u001b[0m\u001b[0;34m(\u001b[0m\u001b[0mary\u001b[0m\u001b[0;34m,\u001b[0m \u001b[0mindices_or_sections\u001b[0m\u001b[0;34m,\u001b[0m \u001b[0;36m1\u001b[0m\u001b[0;34m)\u001b[0m\u001b[0;34m\u001b[0m\u001b[0;34m\u001b[0m\u001b[0m\n\u001b[0m\u001b[1;32m    947\u001b[0m     \u001b[0;32melse\u001b[0m\u001b[0;34m:\u001b[0m\u001b[0;34m\u001b[0m\u001b[0;34m\u001b[0m\u001b[0m\n\u001b[1;32m    948\u001b[0m         \u001b[0;32mreturn\u001b[0m \u001b[0msplit\u001b[0m\u001b[0;34m(\u001b[0m\u001b[0mary\u001b[0m\u001b[0;34m,\u001b[0m \u001b[0mindices_or_sections\u001b[0m\u001b[0;34m,\u001b[0m \u001b[0;36m0\u001b[0m\u001b[0;34m)\u001b[0m\u001b[0;34m\u001b[0m\u001b[0;34m\u001b[0m\u001b[0m\n",
            "\u001b[0;32m/usr/local/lib/python3.10/dist-packages/numpy/core/overrides.py\u001b[0m in \u001b[0;36msplit\u001b[0;34m(*args, **kwargs)\u001b[0m\n",
            "\u001b[0;32m/usr/local/lib/python3.10/dist-packages/numpy/lib/shape_base.py\u001b[0m in \u001b[0;36msplit\u001b[0;34m(ary, indices_or_sections, axis)\u001b[0m\n\u001b[1;32m    870\u001b[0m         \u001b[0mN\u001b[0m \u001b[0;34m=\u001b[0m \u001b[0mary\u001b[0m\u001b[0;34m.\u001b[0m\u001b[0mshape\u001b[0m\u001b[0;34m[\u001b[0m\u001b[0maxis\u001b[0m\u001b[0;34m]\u001b[0m\u001b[0;34m\u001b[0m\u001b[0;34m\u001b[0m\u001b[0m\n\u001b[1;32m    871\u001b[0m         \u001b[0;32mif\u001b[0m \u001b[0mN\u001b[0m \u001b[0;34m%\u001b[0m \u001b[0msections\u001b[0m\u001b[0;34m:\u001b[0m\u001b[0;34m\u001b[0m\u001b[0;34m\u001b[0m\u001b[0m\n\u001b[0;32m--> 872\u001b[0;31m             raise ValueError(\n\u001b[0m\u001b[1;32m    873\u001b[0m                 'array split does not result in an equal division') from None\n\u001b[1;32m    874\u001b[0m     \u001b[0;32mreturn\u001b[0m \u001b[0marray_split\u001b[0m\u001b[0;34m(\u001b[0m\u001b[0mary\u001b[0m\u001b[0;34m,\u001b[0m \u001b[0mindices_or_sections\u001b[0m\u001b[0;34m,\u001b[0m \u001b[0maxis\u001b[0m\u001b[0;34m)\u001b[0m\u001b[0;34m\u001b[0m\u001b[0;34m\u001b[0m\u001b[0m\n",
            "\u001b[0;31mValueError\u001b[0m: array split does not result in an equal division"
          ]
        }
      ]
    },
    {
      "cell_type": "code",
      "source": [
        "a"
      ],
      "metadata": {
        "colab": {
          "base_uri": "https://localhost:8080/"
        },
        "id": "JaZ3-VeKNNzw",
        "outputId": "ce647845-284e-4326-eb24-9af12e940a1b"
      },
      "execution_count": null,
      "outputs": [
        {
          "output_type": "execute_result",
          "data": {
            "text/plain": [
              "array([[ 0,  1,  2,  3],\n",
              "       [ 4,  5,  6,  7],\n",
              "       [ 8,  9, 10, 11],\n",
              "       [12, 13, 14, 15]])"
            ]
          },
          "metadata": {},
          "execution_count": 83
        }
      ]
    },
    {
      "cell_type": "code",
      "source": [
        "b = np.hsplit(a, [1,2])\n",
        "b"
      ],
      "metadata": {
        "colab": {
          "base_uri": "https://localhost:8080/"
        },
        "id": "aVaepjeENCH5",
        "outputId": "dc5fb85e-d2a3-403b-ffbc-e900d9649a91"
      },
      "execution_count": null,
      "outputs": [
        {
          "output_type": "execute_result",
          "data": {
            "text/plain": [
              "[array([[ 0],\n",
              "        [ 4],\n",
              "        [ 8],\n",
              "        [12]]),\n",
              " array([[ 1],\n",
              "        [ 5],\n",
              "        [ 9],\n",
              "        [13]]),\n",
              " array([[ 2,  3],\n",
              "        [ 6,  7],\n",
              "        [10, 11],\n",
              "        [14, 15]])]"
            ]
          },
          "metadata": {},
          "execution_count": 82
        }
      ]
    },
    {
      "cell_type": "code",
      "source": [
        "#vsplit() --> split the vertical axis (row-wise splitting)"
      ],
      "metadata": {
        "id": "8xdRvnJRNGK7"
      },
      "execution_count": null,
      "outputs": []
    },
    {
      "cell_type": "code",
      "source": [
        "a = np.arange(16).reshape(4,4)\n",
        "print(a)"
      ],
      "metadata": {
        "colab": {
          "base_uri": "https://localhost:8080/"
        },
        "id": "xCjBhJJ6OH1x",
        "outputId": "9775fec6-737a-4911-e685-179ea57aac75"
      },
      "execution_count": null,
      "outputs": [
        {
          "output_type": "stream",
          "name": "stdout",
          "text": [
            "[[ 0  1  2  3]\n",
            " [ 4  5  6  7]\n",
            " [ 8  9 10 11]\n",
            " [12 13 14 15]]\n"
          ]
        }
      ]
    },
    {
      "cell_type": "code",
      "source": [
        "np.vsplit(a,2)"
      ],
      "metadata": {
        "colab": {
          "base_uri": "https://localhost:8080/"
        },
        "id": "GOhzX2kxOLpe",
        "outputId": "5cd0636d-f38e-4761-aa11-1bff03d2482c"
      },
      "execution_count": null,
      "outputs": [
        {
          "output_type": "execute_result",
          "data": {
            "text/plain": [
              "[array([[0, 1, 2, 3],\n",
              "        [4, 5, 6, 7]]),\n",
              " array([[ 8,  9, 10, 11],\n",
              "        [12, 13, 14, 15]])]"
            ]
          },
          "metadata": {},
          "execution_count": 85
        }
      ]
    },
    {
      "cell_type": "code",
      "source": [
        "np.vsplit(a,[2,3])"
      ],
      "metadata": {
        "colab": {
          "base_uri": "https://localhost:8080/"
        },
        "id": "Xddg0wjkOcrw",
        "outputId": "34065545-9bc6-4d73-c9a7-ac20ef933518"
      },
      "execution_count": null,
      "outputs": [
        {
          "output_type": "execute_result",
          "data": {
            "text/plain": [
              "[array([[0, 1, 2, 3],\n",
              "        [4, 5, 6, 7]]),\n",
              " array([[ 8,  9, 10, 11]]),\n",
              " array([[12, 13, 14, 15]])]"
            ]
          },
          "metadata": {},
          "execution_count": 86
        }
      ]
    },
    {
      "cell_type": "code",
      "source": [
        "#concatenate"
      ],
      "metadata": {
        "id": "6KHS197MO50a"
      },
      "execution_count": null,
      "outputs": []
    },
    {
      "cell_type": "code",
      "source": [
        "a = np.array([[2,4]])\n",
        "print(a)"
      ],
      "metadata": {
        "colab": {
          "base_uri": "https://localhost:8080/"
        },
        "id": "hWFdi7b0PJJE",
        "outputId": "34eddcc2-1849-49d3-cc81-1cc148111072"
      },
      "execution_count": null,
      "outputs": [
        {
          "output_type": "stream",
          "name": "stdout",
          "text": [
            "[[2 4]]\n"
          ]
        }
      ]
    },
    {
      "cell_type": "code",
      "source": [
        "a.shape"
      ],
      "metadata": {
        "colab": {
          "base_uri": "https://localhost:8080/"
        },
        "id": "bKkYHcLPPM8b",
        "outputId": "a73f25aa-b042-4c7e-d2b6-2e294e4a5895"
      },
      "execution_count": null,
      "outputs": [
        {
          "output_type": "execute_result",
          "data": {
            "text/plain": [
              "(1, 2)"
            ]
          },
          "metadata": {},
          "execution_count": 90
        }
      ]
    },
    {
      "cell_type": "code",
      "source": [
        "b = np.concatenate([a,a], axis = 0)\n",
        "print(b)"
      ],
      "metadata": {
        "colab": {
          "base_uri": "https://localhost:8080/"
        },
        "id": "C5kBw5JUPVVC",
        "outputId": "71a66a20-8ab9-4042-a37f-7c53e07b7c4c"
      },
      "execution_count": null,
      "outputs": [
        {
          "output_type": "stream",
          "name": "stdout",
          "text": [
            "[[2 4]\n",
            " [2 4]]\n"
          ]
        }
      ]
    },
    {
      "cell_type": "code",
      "source": [
        "b = np.concatenate([a,a], axis = 1)\n",
        "print(b)"
      ],
      "metadata": {
        "colab": {
          "base_uri": "https://localhost:8080/"
        },
        "id": "8hxmjr_PPbbo",
        "outputId": "c3f73af8-a7cb-4494-9df5-3a9f677abe16"
      },
      "execution_count": null,
      "outputs": [
        {
          "output_type": "stream",
          "name": "stdout",
          "text": [
            "[[2 4 2 4]]\n"
          ]
        }
      ]
    },
    {
      "cell_type": "code",
      "source": [
        "a = np.array([[2,4]])\n",
        "print(a)"
      ],
      "metadata": {
        "colab": {
          "base_uri": "https://localhost:8080/"
        },
        "id": "WAqFB4E9P4IJ",
        "outputId": "6ccb97a3-40ef-4900-9c1b-3f6af96368be"
      },
      "execution_count": null,
      "outputs": [
        {
          "output_type": "stream",
          "name": "stdout",
          "text": [
            "[[2 4]]\n"
          ]
        }
      ]
    },
    {
      "cell_type": "code",
      "source": [
        "b = np.array([[5,4]])\n",
        "print(b)"
      ],
      "metadata": {
        "colab": {
          "base_uri": "https://localhost:8080/"
        },
        "id": "F2L_rsFxQBxa",
        "outputId": "fde3a97c-6743-4876-ad41-baf6d01377d3"
      },
      "execution_count": null,
      "outputs": [
        {
          "output_type": "stream",
          "name": "stdout",
          "text": [
            "[[5 4]]\n"
          ]
        }
      ]
    },
    {
      "cell_type": "code",
      "source": [
        "c = np.concatenate([a,b,a], axis = 0)\n",
        "print(c)"
      ],
      "metadata": {
        "colab": {
          "base_uri": "https://localhost:8080/"
        },
        "id": "SjCD_KOUQDF9",
        "outputId": "de4c36fe-8133-4d89-be92-dbf4ed020a3e"
      },
      "execution_count": null,
      "outputs": [
        {
          "output_type": "stream",
          "name": "stdout",
          "text": [
            "[[2 4]\n",
            " [5 4]\n",
            " [2 4]]\n"
          ]
        }
      ]
    },
    {
      "cell_type": "code",
      "source": [
        "c = np.concatenate([a,b,a], axis = 1)\n",
        "print(c)"
      ],
      "metadata": {
        "colab": {
          "base_uri": "https://localhost:8080/"
        },
        "id": "jS7At9j7QG-l",
        "outputId": "31607476-2990-406f-d553-b107b86f3130"
      },
      "execution_count": null,
      "outputs": [
        {
          "output_type": "stream",
          "name": "stdout",
          "text": [
            "[[2 4 5 4 2 4]]\n"
          ]
        }
      ]
    },
    {
      "cell_type": "code",
      "source": [
        "a = np.array([[2,4,3]])\n",
        "b = np.array([[2,4]])\n"
      ],
      "metadata": {
        "id": "p5nTcO72Rj83"
      },
      "execution_count": null,
      "outputs": []
    },
    {
      "cell_type": "code",
      "source": [
        "c = np.concatenate([a,b], axis = 0)\n",
        "print(c)"
      ],
      "metadata": {
        "colab": {
          "base_uri": "https://localhost:8080/",
          "height": 246
        },
        "id": "HO0EOVtWRpuq",
        "outputId": "6218fe1f-7c29-43db-bec6-9565a96deac2"
      },
      "execution_count": null,
      "outputs": [
        {
          "output_type": "error",
          "ename": "ValueError",
          "evalue": "ignored",
          "traceback": [
            "\u001b[0;31m---------------------------------------------------------------------------\u001b[0m",
            "\u001b[0;31mValueError\u001b[0m                                Traceback (most recent call last)",
            "\u001b[0;32m<ipython-input-115-37838662bc70>\u001b[0m in \u001b[0;36m<cell line: 1>\u001b[0;34m()\u001b[0m\n\u001b[0;32m----> 1\u001b[0;31m \u001b[0mc\u001b[0m \u001b[0;34m=\u001b[0m \u001b[0mnp\u001b[0m\u001b[0;34m.\u001b[0m\u001b[0mconcatenate\u001b[0m\u001b[0;34m(\u001b[0m\u001b[0;34m[\u001b[0m\u001b[0ma\u001b[0m\u001b[0;34m,\u001b[0m\u001b[0mb\u001b[0m\u001b[0;34m]\u001b[0m\u001b[0;34m,\u001b[0m \u001b[0maxis\u001b[0m \u001b[0;34m=\u001b[0m \u001b[0;36m0\u001b[0m\u001b[0;34m)\u001b[0m\u001b[0;34m\u001b[0m\u001b[0;34m\u001b[0m\u001b[0m\n\u001b[0m\u001b[1;32m      2\u001b[0m \u001b[0mprint\u001b[0m\u001b[0;34m(\u001b[0m\u001b[0mc\u001b[0m\u001b[0;34m)\u001b[0m\u001b[0;34m\u001b[0m\u001b[0;34m\u001b[0m\u001b[0m\n",
            "\u001b[0;32m/usr/local/lib/python3.10/dist-packages/numpy/core/overrides.py\u001b[0m in \u001b[0;36mconcatenate\u001b[0;34m(*args, **kwargs)\u001b[0m\n",
            "\u001b[0;31mValueError\u001b[0m: all the input array dimensions for the concatenation axis must match exactly, but along dimension 1, the array at index 0 has size 3 and the array at index 1 has size 2"
          ]
        }
      ]
    },
    {
      "cell_type": "code",
      "source": [
        "c = np.concatenate([a,b], axis = 1)\n",
        "print(c)"
      ],
      "metadata": {
        "colab": {
          "base_uri": "https://localhost:8080/"
        },
        "id": "KFkAJwBnRyhs",
        "outputId": "78c3dc18-0a30-4a71-dcef-077db091108b"
      },
      "execution_count": null,
      "outputs": [
        {
          "output_type": "stream",
          "name": "stdout",
          "text": [
            "[[2 4 3 2 4]]\n"
          ]
        }
      ]
    },
    {
      "cell_type": "code",
      "source": [
        "#stacking"
      ],
      "metadata": {
        "id": "eodlsilBQXva"
      },
      "execution_count": null,
      "outputs": []
    },
    {
      "cell_type": "code",
      "source": [
        "#hstack()\n",
        "#vstack()"
      ],
      "metadata": {
        "id": "AciDjBxxQfEf"
      },
      "execution_count": null,
      "outputs": []
    },
    {
      "cell_type": "code",
      "source": [
        "a = np.arange(5)\n",
        "b = np.arange(5,10)\n",
        "print(a)\n",
        "print(b)"
      ],
      "metadata": {
        "colab": {
          "base_uri": "https://localhost:8080/"
        },
        "id": "ENe4J87uQmoC",
        "outputId": "06517434-6f39-43f2-ffad-8e42a54e743a"
      },
      "execution_count": null,
      "outputs": [
        {
          "output_type": "stream",
          "name": "stdout",
          "text": [
            "[0 1 2 3 4]\n",
            "[5 6 7 8 9]\n"
          ]
        }
      ]
    },
    {
      "cell_type": "code",
      "source": [
        "c = np.hstack((a,b))\n",
        "print(c)"
      ],
      "metadata": {
        "colab": {
          "base_uri": "https://localhost:8080/"
        },
        "id": "qwUukHGhQtKg",
        "outputId": "0b511a0f-1ae0-48ac-c5df-d1638f159ab4"
      },
      "execution_count": null,
      "outputs": [
        {
          "output_type": "stream",
          "name": "stdout",
          "text": [
            "[0 1 2 3 4 5 6 7 8 9]\n"
          ]
        }
      ]
    },
    {
      "cell_type": "code",
      "source": [
        "c = np.hstack((b,a))\n",
        "print(c)"
      ],
      "metadata": {
        "colab": {
          "base_uri": "https://localhost:8080/"
        },
        "id": "gfT-mvBaRA5F",
        "outputId": "86dec265-edbd-4482-90c9-095901c13320"
      },
      "execution_count": null,
      "outputs": [
        {
          "output_type": "stream",
          "name": "stdout",
          "text": [
            "[5 6 7 8 9 0 1 2 3 4]\n"
          ]
        }
      ]
    },
    {
      "cell_type": "code",
      "source": [
        "a = np.arange(5)\n",
        "b = np.arange(5,10)\n",
        "print(a)\n",
        "print(b)"
      ],
      "metadata": {
        "colab": {
          "base_uri": "https://localhost:8080/"
        },
        "id": "Iour5vqtRe6s",
        "outputId": "a67b9889-fb57-4a6a-98a1-051f54bc6288"
      },
      "execution_count": null,
      "outputs": [
        {
          "output_type": "stream",
          "name": "stdout",
          "text": [
            "[0 1 2 3 4]\n",
            "[5 6 7 8 9]\n"
          ]
        }
      ]
    },
    {
      "cell_type": "code",
      "source": [
        "c = np.vstack((a,b))\n",
        "print(c)"
      ],
      "metadata": {
        "colab": {
          "base_uri": "https://localhost:8080/"
        },
        "id": "V7vO4KxCST5Y",
        "outputId": "21622b0f-d250-4bd0-9fc6-9aa7a714f775"
      },
      "execution_count": null,
      "outputs": [
        {
          "output_type": "stream",
          "name": "stdout",
          "text": [
            "[[0 1 2 3 4]\n",
            " [5 6 7 8 9]]\n"
          ]
        }
      ]
    },
    {
      "cell_type": "code",
      "source": [
        "c = np.vstack((b,a))\n",
        "print(c)"
      ],
      "metadata": {
        "colab": {
          "base_uri": "https://localhost:8080/"
        },
        "id": "SJvGwnrGSglH",
        "outputId": "1a9637e9-442b-4119-9eb6-7e5a7e2df9cd"
      },
      "execution_count": null,
      "outputs": [
        {
          "output_type": "stream",
          "name": "stdout",
          "text": [
            "[[5 6 7 8 9]\n",
            " [0 1 2 3 4]]\n"
          ]
        }
      ]
    },
    {
      "cell_type": "code",
      "source": [
        "# What will be the output of following code?\n",
        "a = np.array([[1], [2], [3]])\n",
        "b = np.array([[4], [5], [6]])\n",
        "np.vstack((a, b))"
      ],
      "metadata": {
        "id": "FJPnG6eqSqcV"
      },
      "execution_count": null,
      "outputs": []
    },
    {
      "cell_type": "code",
      "source": [
        "a = np.array([[1], [2], [3]])\n",
        "print(a)"
      ],
      "metadata": {
        "colab": {
          "base_uri": "https://localhost:8080/"
        },
        "id": "8sHUeoIDTZia",
        "outputId": "ba34d6f9-6262-4e11-b7f7-b8e67259fe58"
      },
      "execution_count": null,
      "outputs": [
        {
          "output_type": "stream",
          "name": "stdout",
          "text": [
            "[[1]\n",
            " [2]\n",
            " [3]]\n"
          ]
        }
      ]
    },
    {
      "cell_type": "code",
      "source": [
        "a.shape"
      ],
      "metadata": {
        "colab": {
          "base_uri": "https://localhost:8080/"
        },
        "id": "rIq2A_x_Tw0b",
        "outputId": "33de3799-905c-4d06-ff78-3fea0f040670"
      },
      "execution_count": null,
      "outputs": [
        {
          "output_type": "execute_result",
          "data": {
            "text/plain": [
              "(3, 1)"
            ]
          },
          "metadata": {},
          "execution_count": 122
        }
      ]
    },
    {
      "cell_type": "code",
      "source": [
        "b = np.array([[4], [5], [6]])\n",
        "print(b)"
      ],
      "metadata": {
        "colab": {
          "base_uri": "https://localhost:8080/"
        },
        "id": "vyCC8scNT19G",
        "outputId": "cccb7355-988b-48a3-95b9-beb181453360"
      },
      "execution_count": null,
      "outputs": [
        {
          "output_type": "stream",
          "name": "stdout",
          "text": [
            "[[4]\n",
            " [5]\n",
            " [6]]\n"
          ]
        }
      ]
    },
    {
      "cell_type": "code",
      "source": [
        "np.vstack((a, b))"
      ],
      "metadata": {
        "colab": {
          "base_uri": "https://localhost:8080/"
        },
        "id": "jQDE96vxT4aR",
        "outputId": "06a03bb4-02dc-4813-99c6-6b9d200f0161"
      },
      "execution_count": null,
      "outputs": [
        {
          "output_type": "execute_result",
          "data": {
            "text/plain": [
              "array([[1],\n",
              "       [2],\n",
              "       [3],\n",
              "       [4],\n",
              "       [5],\n",
              "       [6]])"
            ]
          },
          "metadata": {},
          "execution_count": 124
        }
      ]
    },
    {
      "cell_type": "code",
      "source": [
        "# What will be the output of following code?\n",
        "a = np.array([[1], [2], [3]])\n",
        "b = np.array([[4], [5], [6]])\n",
        "np.hstack((a, b))"
      ],
      "metadata": {
        "colab": {
          "base_uri": "https://localhost:8080/"
        },
        "id": "b2349QrNT7Xk",
        "outputId": "9332a721-7707-443b-bfe7-9faca660d85a"
      },
      "execution_count": null,
      "outputs": [
        {
          "output_type": "execute_result",
          "data": {
            "text/plain": [
              "array([[1, 4],\n",
              "       [2, 5],\n",
              "       [3, 6]])"
            ]
          },
          "metadata": {},
          "execution_count": 125
        }
      ]
    },
    {
      "cell_type": "code",
      "source": [
        "# What will be the result of this concatenation operation?\n",
        "a = np.array([[1, 2], [3, 4]])\n",
        "b = np.array([[5, 6]])\n",
        "np.concatenate((a, b.T), axis=1)"
      ],
      "metadata": {
        "colab": {
          "base_uri": "https://localhost:8080/"
        },
        "id": "Yp1m1y0UUZvI",
        "outputId": "2ac1bff6-b982-48cb-d764-7553836a8f5b"
      },
      "execution_count": null,
      "outputs": [
        {
          "output_type": "execute_result",
          "data": {
            "text/plain": [
              "array([[1, 2, 5],\n",
              "       [3, 4, 6]])"
            ]
          },
          "metadata": {},
          "execution_count": 126
        }
      ]
    },
    {
      "cell_type": "code",
      "source": [
        "#explanation:\n",
        "\n",
        "a = np.array([[1, 2], [3, 4]])\n",
        "print(a)"
      ],
      "metadata": {
        "colab": {
          "base_uri": "https://localhost:8080/"
        },
        "id": "CI81oMGUU5lv",
        "outputId": "289e7e7f-1d79-45b8-e6d9-ae6a91bc699f"
      },
      "execution_count": null,
      "outputs": [
        {
          "output_type": "stream",
          "name": "stdout",
          "text": [
            "[[1 2]\n",
            " [3 4]]\n"
          ]
        }
      ]
    },
    {
      "cell_type": "code",
      "source": [
        "b = np.array([[5, 6]])\n",
        "print(b)"
      ],
      "metadata": {
        "colab": {
          "base_uri": "https://localhost:8080/"
        },
        "id": "xJ04uywIVAeD",
        "outputId": "a5c7e29d-5a64-405d-bda7-75f67a310ddc"
      },
      "execution_count": null,
      "outputs": [
        {
          "output_type": "stream",
          "name": "stdout",
          "text": [
            "[[5 6]]\n"
          ]
        }
      ]
    },
    {
      "cell_type": "code",
      "source": [
        "c = b.T"
      ],
      "metadata": {
        "id": "z7FcXD9BVCgT"
      },
      "execution_count": null,
      "outputs": []
    },
    {
      "cell_type": "code",
      "source": [
        "print(c)"
      ],
      "metadata": {
        "colab": {
          "base_uri": "https://localhost:8080/"
        },
        "id": "uFyL7OT-VDoj",
        "outputId": "97eb7e84-a940-402e-a174-2f435caae9ac"
      },
      "execution_count": null,
      "outputs": [
        {
          "output_type": "stream",
          "name": "stdout",
          "text": [
            "[[5]\n",
            " [6]]\n"
          ]
        }
      ]
    },
    {
      "cell_type": "code",
      "source": [
        "np.concatenate((a, c), axis=1)"
      ],
      "metadata": {
        "colab": {
          "base_uri": "https://localhost:8080/"
        },
        "id": "yZN4Ft4kVG-y",
        "outputId": "2d0270c5-edbb-4875-dfb8-63b050b43de7"
      },
      "execution_count": null,
      "outputs": [
        {
          "output_type": "execute_result",
          "data": {
            "text/plain": [
              "array([[1, 2, 5],\n",
              "       [3, 4, 6]])"
            ]
          },
          "metadata": {},
          "execution_count": 133
        }
      ]
    },
    {
      "cell_type": "code",
      "source": [],
      "metadata": {
        "id": "fSG9KwFpVLnl"
      },
      "execution_count": null,
      "outputs": []
    }
  ]
}